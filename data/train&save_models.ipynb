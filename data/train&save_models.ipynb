{
 "cells": [
  {
   "cell_type": "code",
   "execution_count": 1,
   "metadata": {},
   "outputs": [],
   "source": [
    "from lenskit.datasets import MovieLens"
   ]
  },
  {
   "cell_type": "code",
   "execution_count": 2,
   "metadata": {},
   "outputs": [],
   "source": [
    "data = MovieLens(path=\"ml-100k/\")"
   ]
  },
  {
   "cell_type": "markdown",
   "metadata": {},
   "source": [
    "### **Chosen models**"
   ]
  },
  {
   "cell_type": "markdown",
   "metadata": {},
   "source": [
    "- bias_3\n",
    "- biased_mf_6\n",
    "- item_knn_3\n",
    "- implicit_mf_4"
   ]
  },
  {
   "cell_type": "code",
   "execution_count": 3,
   "metadata": {},
   "outputs": [],
   "source": [
    "import binpickle\n",
    "from lenskit.algorithms.bias import Bias\n",
    "from lenskit.algorithms.item_knn import ItemItem\n",
    "from lenskit.algorithms.als import BiasedMF, ImplicitMF\n",
    "from lenskit.algorithms import Recommender"
   ]
  },
  {
   "cell_type": "markdown",
   "metadata": {},
   "source": [
    "### bias_3"
   ]
  },
  {
   "cell_type": "code",
   "execution_count": 4,
   "metadata": {},
   "outputs": [],
   "source": [
    "bias_3 = Bias(damping=3)\n",
    "alg_bias_3 = Recommender.adapt(bias_3)\n",
    "alg_bias_3.fit(data.ratings)\n",
    "\n",
    "binpickle.dump(alg_bias_3, \"models/bias_3_model.bpk\",codec=binpickle.codecs.Blosc('zstd', 9))"
   ]
  },
  {
   "cell_type": "markdown",
   "metadata": {},
   "source": [
    "### biased_mf_6"
   ]
  },
  {
   "cell_type": "code",
   "execution_count": 5,
   "metadata": {},
   "outputs": [
    {
     "name": "stderr",
     "output_type": "stream",
     "text": [
      "BLAS using multiple threads - can cause oversubscription\n",
      "found 1 potential runtime problems - see https://boi.st/lkpy-perf\n"
     ]
    }
   ],
   "source": [
    "biased_mf_6 = BiasedMF(100, reg=1)\n",
    "alg_biased_mf_6 = Recommender.adapt(biased_mf_6)\n",
    "alg_biased_mf_6.fit(data.ratings)\n",
    "\n",
    "binpickle.dump(alg_biased_mf_6, \"models/biased_mf_6_model.bpk\",codec=binpickle.codecs.Blosc('zstd', 9))"
   ]
  },
  {
   "cell_type": "markdown",
   "metadata": {},
   "source": [
    "### item_knn_3"
   ]
  },
  {
   "cell_type": "code",
   "execution_count": 6,
   "metadata": {},
   "outputs": [],
   "source": [
    "item_knn_3 = ItemItem(100, 5)\n",
    "alg_item_knn_3 = Recommender.adapt(item_knn_3)\n",
    "alg_item_knn_3.fit(data.ratings)\n",
    "    \n",
    "binpickle.dump(alg_item_knn_3, \"models/item_knn_3_model.bpk\",codec=binpickle.codecs.Blosc('zstd', 9))"
   ]
  },
  {
   "cell_type": "markdown",
   "metadata": {},
   "source": [
    "### implicit_mf"
   ]
  },
  {
   "cell_type": "code",
   "execution_count": 4,
   "metadata": {},
   "outputs": [
    {
     "name": "stderr",
     "output_type": "stream",
     "text": [
      "BLAS using multiple threads - can cause oversubscription\n",
      "found 1 potential runtime problems - see https://boi.st/lkpy-perf\n"
     ]
    }
   ],
   "source": [
    "implicit_mf_4 = ImplicitMF(30, reg=1, use_ratings=True)\n",
    "alg_implicit_mf_4 = Recommender.adapt(implicit_mf_4)\n",
    "alg_implicit_mf_4.fit(data.ratings)\n",
    "\n",
    "binpickle.dump(alg_implicit_mf_4, \"models/implicit_mf_4_model.bpk\",codec=binpickle.codecs.Blosc('zstd', 9))"
   ]
  }
 ],
 "metadata": {
  "interpreter": {
   "hash": "5e5657d2cdc9476752647be953e20f812e6012d99e30152caf1090a2d17dec4b"
  },
  "kernelspec": {
   "display_name": "Python 3.8.13 ('rec')",
   "language": "python",
   "name": "python3"
  },
  "language_info": {
   "codemirror_mode": {
    "name": "ipython",
    "version": 3
   },
   "file_extension": ".py",
   "mimetype": "text/x-python",
   "name": "python",
   "nbconvert_exporter": "python",
   "pygments_lexer": "ipython3",
   "version": "3.9.12"
  },
  "orig_nbformat": 4
 },
 "nbformat": 4,
 "nbformat_minor": 2
}
